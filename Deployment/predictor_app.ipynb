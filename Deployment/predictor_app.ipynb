{
 "cells": [
  {
   "cell_type": "code",
   "execution_count": 1,
   "id": "2623c672",
   "metadata": {},
   "outputs": [
    {
     "name": "stderr",
     "output_type": "stream",
     "text": [
      "c:\\Users\\Aanaconda\\envs\\new\\Lib\\site-packages\\sklearn\\base.py:376: InconsistentVersionWarning: Trying to unpickle estimator CountVectorizer from version 0.23.1 when using version 1.4.0. This might lead to breaking code or invalid results. Use at your own risk. For more info please refer to:\n",
      "https://scikit-learn.org/stable/model_persistence.html#security-maintainability-limitations\n",
      "  warnings.warn(\n",
      "c:\\Users\\Aanaconda\\envs\\new\\Lib\\site-packages\\sklearn\\base.py:376: InconsistentVersionWarning: Trying to unpickle estimator TfidfTransformer from version 0.23.1 when using version 1.4.0. This might lead to breaking code or invalid results. Use at your own risk. For more info please refer to:\n",
      "https://scikit-learn.org/stable/model_persistence.html#security-maintainability-limitations\n",
      "  warnings.warn(\n",
      "c:\\Users\\Aanaconda\\envs\\new\\Lib\\site-packages\\sklearn\\base.py:376: InconsistentVersionWarning: Trying to unpickle estimator LinearSVC from version 0.23.1 when using version 1.4.0. This might lead to breaking code or invalid results. Use at your own risk. For more info please refer to:\n",
      "https://scikit-learn.org/stable/model_persistence.html#security-maintainability-limitations\n",
      "  warnings.warn(\n",
      "c:\\Users\\Aanaconda\\envs\\new\\Lib\\site-packages\\sklearn\\base.py:376: InconsistentVersionWarning: Trying to unpickle estimator Pipeline from version 0.23.1 when using version 1.4.0. This might lead to breaking code or invalid results. Use at your own risk. For more info please refer to:\n",
      "https://scikit-learn.org/stable/model_persistence.html#security-maintainability-limitations\n",
      "  warnings.warn(\n"
     ]
    }
   ],
   "source": [
    "from Utils import preprocess\n",
    "from joblib import load\n",
    "from flask import Flask, request, jsonify, render_template\n",
    "\n",
    "\n",
    "model = load(r\"ML_dialect.joblib\")\n",
    "\n",
    "labels = {'SA':'Saudi Arabia','QA':'Qatar','KW':'Kuwait','OM':'Oman','AE':'Arab Emirates','BH':'Bahrain',\n",
    "          'IQ':'Iraq','YE':'Yemen','EG':'Egypt','SD':'Sudan','SY':'Syria','JO':'Jordan',\n",
    "          'PL':'Palestine','LB':'Lebanon','DZ':'Algeria','MA':'Morocco','TN':'Tunisia','LY':'Libya'}"
   ]
  },
  {
   "cell_type": "code",
   "execution_count": 2,
   "id": "112f6c23",
   "metadata": {},
   "outputs": [
    {
     "name": "stdout",
     "output_type": "stream",
     "text": [
      " * Serving Flask app '__main__'\n",
      " * Debug mode: off\n"
     ]
    },
    {
     "name": "stderr",
     "output_type": "stream",
     "text": [
      "WARNING: This is a development server. Do not use it in a production deployment. Use a production WSGI server instead.\n",
      " * Running on http://127.0.0.1:5000\n",
      "Press CTRL+C to quit\n",
      "127.0.0.1 - - [30/Apr/2024 01:45:20] \"GET / HTTP/1.1\" 200 -\n",
      "127.0.0.1 - - [30/Apr/2024 01:45:21] \"GET /favicon.ico HTTP/1.1\" 404 -\n",
      "127.0.0.1 - - [30/Apr/2024 01:45:21] \"GET /highLightTitle.png HTTP/1.1\" 404 -\n",
      "127.0.0.1 - - [30/Apr/2024 01:45:38] \"POST /predict HTTP/1.1\" 200 -\n",
      "127.0.0.1 - - [30/Apr/2024 01:45:38] \"GET /highLightTitle.png HTTP/1.1\" 404 -\n",
      "127.0.0.1 - - [30/Apr/2024 01:45:55] \"POST /predict HTTP/1.1\" 200 -\n",
      "127.0.0.1 - - [30/Apr/2024 01:45:55] \"GET /highLightTitle.png HTTP/1.1\" 404 -\n",
      "127.0.0.1 - - [30/Apr/2024 01:46:17] \"POST /predict HTTP/1.1\" 200 -\n",
      "127.0.0.1 - - [30/Apr/2024 01:46:18] \"GET /highLightTitle.png HTTP/1.1\" 404 -\n",
      "127.0.0.1 - - [30/Apr/2024 01:46:22] \"POST /predict HTTP/1.1\" 200 -\n",
      "127.0.0.1 - - [30/Apr/2024 01:46:23] \"GET /highLightTitle.png HTTP/1.1\" 404 -\n"
     ]
    }
   ],
   "source": [
    "# Initialize the app\n",
    "app = Flask(__name__)\n",
    "\n",
    "\n",
    "@app.route('/')\n",
    "def home():\n",
    "    return render_template('predictor.html')\n",
    "\n",
    "\n",
    "@app.route('/predict', methods = ['POST'])\n",
    "def predict():\n",
    "    sentence = request.form['sentence']\n",
    "    data = [preprocess(sentence)]\n",
    "        \n",
    "    if model.predict(data)[0] in labels.keys():\n",
    "        pred = labels[model.predict(data)[0]]\n",
    "        \n",
    "    return render_template('predictor.html', \n",
    "                           answer = pred)\n",
    "\n",
    "# Start the server, continuously listen to requests.\n",
    "if __name__==\"__main__\":\n",
    "    app.run(debug=False)"
   ]
  },
  {
   "cell_type": "code",
   "execution_count": null,
   "id": "27c1b527",
   "metadata": {},
   "outputs": [],
   "source": []
  }
 ],
 "metadata": {
  "kernelspec": {
   "display_name": "Python 3",
   "language": "python",
   "name": "python3"
  },
  "language_info": {
   "codemirror_mode": {
    "name": "ipython",
    "version": 3
   },
   "file_extension": ".py",
   "mimetype": "text/x-python",
   "name": "python",
   "nbconvert_exporter": "python",
   "pygments_lexer": "ipython3",
   "version": "3.11.7"
  }
 },
 "nbformat": 4,
 "nbformat_minor": 5
}
